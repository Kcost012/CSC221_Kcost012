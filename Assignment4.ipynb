{
  "nbformat": 4,
  "nbformat_minor": 0,
  "metadata": {
    "colab": {
      "provenance": [],
      "authorship_tag": "ABX9TyPVPq0Ha9TtQcZAM2Ad4LXW",
      "include_colab_link": true
    },
    "kernelspec": {
      "name": "python3",
      "display_name": "Python 3"
    },
    "language_info": {
      "name": "python"
    }
  },
  "cells": [
    {
      "cell_type": "markdown",
      "metadata": {
        "id": "view-in-github",
        "colab_type": "text"
      },
      "source": [
        "<a href=\"https://colab.research.google.com/github/Kcost012/CSC221_Kcost012/blob/main/Assignment4.ipynb\" target=\"_parent\"><img src=\"https://colab.research.google.com/assets/colab-badge.svg\" alt=\"Open In Colab\"/></a>"
      ]
    },
    {
      "cell_type": "code",
      "execution_count": 6,
      "metadata": {
        "colab": {
          "base_uri": "https://localhost:8080/"
        },
        "id": "Q_Ue8OMiE9Ol",
        "outputId": "c180d7c8-7be1-47b4-cd85-5f1491944e8b"
      },
      "outputs": [
        {
          "output_type": "stream",
          "name": "stdout",
          "text": [
            "['Josh', 'Deep', 'Mikael']\n",
            "Josh\n",
            "Deep\n",
            "Mikael\n"
          ]
        }
      ],
      "source": [
        "# TIY 3-1\n",
        "\n",
        "names = ['Josh', 'Deep', 'Mikael']\n",
        "\n",
        "print(names)\n",
        "print(names[0])\n",
        "print(names[1])\n",
        "print(names[2])"
      ]
    },
    {
      "cell_type": "code",
      "source": [
        "# TIY 3-2\n",
        "\n",
        "names = ['Josh', 'Deep', 'Mikael']\n",
        "\n",
        "message0 = f'Hows it going, what are you up to {names[0]}?'\n",
        "message1 = f'Hows it going, what are you up to {names[1]}?'\n",
        "message2 = f'Hows it going, what are you up to {names[2]}?'\n",
        "\n",
        "print(message0)\n",
        "print(message1)\n",
        "print(message2)"
      ],
      "metadata": {
        "colab": {
          "base_uri": "https://localhost:8080/"
        },
        "id": "O5YKXXaKIy-e",
        "outputId": "327d28a5-9faf-4802-9a81-9f878e1c0a4f"
      },
      "execution_count": 7,
      "outputs": [
        {
          "output_type": "stream",
          "name": "stdout",
          "text": [
            "Hows it going, what are you up to Josh?\n",
            "Hows it going, what are you up to Deep?\n",
            "Hows it going, what are you up to Mikael?\n"
          ]
        }
      ]
    },
    {
      "cell_type": "code",
      "source": [
        "# TIY 3-3\n",
        "\n",
        "vehicles = ['kia', 'airplane', 'ferry']\n",
        "\n",
        "message0 = f'I drive my {vehicles[0].title()} to work and class everyday it is an extremley reliable car and am thankful to have it.'\n",
        "message1 = f'When I travel anywhere that is a distance away personally I perfer to take the {vehicles[1]}, it makes the trip quicker and less stressful.'\n",
        "message2 = f'I live close to Vermont but I usually have to take the {vehicles[2]}.'\n",
        "\n",
        "print(message0)\n",
        "print(message1)\n",
        "print(message2)"
      ],
      "metadata": {
        "colab": {
          "base_uri": "https://localhost:8080/"
        },
        "id": "3PoY9gGbKUNE",
        "outputId": "0fae74b6-822d-4068-b87f-cbced2d265bc"
      },
      "execution_count": 12,
      "outputs": [
        {
          "output_type": "stream",
          "name": "stdout",
          "text": [
            "I drive my Kia to work and class everyday it is an extremley reliable car and am thankful to have it.\n",
            "When I travel anywhere that is a distance away personally I perfer to take the airplane, it makes the trip quicker and less stressful.\n",
            "I live close to Vermont but I usually have to take the ferry.\n"
          ]
        }
      ]
    },
    {
      "cell_type": "code",
      "source": [
        "# TIY 3-4\n",
        "\n",
        "dinner_list = ['mom', 'dad', 'hannah']\n",
        "print(dinner_list)\n",
        "\n",
        "message0 = f'Hey {dinner_list[0].title()} lets go get some lunch today it has been a week and I want to catch up and see how youre doing.'\n",
        "message1 = f'{dinner_list[1].title()} lets go grab a bite to eat before you leave for your cruise.'\n",
        "message2 = f'Im starving lets go get a bite to eat at that Indian resturant {dinner_list[2].title()}.'\n",
        "\n",
        "print(message0)\n",
        "print(message1)\n",
        "print(message2)"
      ],
      "metadata": {
        "colab": {
          "base_uri": "https://localhost:8080/"
        },
        "id": "a93uOfDoMwtp",
        "outputId": "204ebfab-dfc3-496e-97a4-2317c1be3fd2"
      },
      "execution_count": 13,
      "outputs": [
        {
          "output_type": "stream",
          "name": "stdout",
          "text": [
            "Hey Mom lets go get some lunch today it has been a week and I want to catch up and see how youre doing.\n",
            "Dad lets go grab a bite to eat before you leave for your cruise.\n",
            "Im starving lets go get a bite to eat at that Indian resturant Hannah.\n"
          ]
        }
      ]
    },
    {
      "cell_type": "code",
      "source": [
        "# TIY 3-5\n",
        "\n",
        "dinner_list = ['mom', 'dad', 'hannah']\n",
        "print(dinner_list)\n",
        "\n",
        "message0 = f'Hey {dinner_list[0].title()} lets go get some lunch today it has been a week and I want to catch up and see how youre doing.'\n",
        "message1 = f'{dinner_list[1].title()} lets go grab a bite to eat before you leave for your cruise.'\n",
        "message2 = f'Im starving lets go get a bite to eat at that Indian resturant {dinner_list[2].title()}.'\n",
        "\n",
        "print(message0)\n",
        "print(message1)\n",
        "print(message2)\n",
        "\n",
        "print(f'{dinner_list[2].title()} couldnt make it becuase of the kids.')\n",
        "\n",
        "del dinner_list[2]\n",
        "dinner_list.append('josh')\n",
        "print(dinner_list)\n",
        "\n",
        "message3 = f'Hey {dinner_list[0].title()} jsut checking back in to see if were still on for lunch?'\n",
        "message4 = f'{dinner_list[1].upper()}! You leave for your cruise tommorow lets go get some food now!'\n",
        "message5 = f'Hey {dinner_list[2].title()} just reaching out to see if you wanted to grab a bite to eat?'\n",
        "\n",
        "print(message3)\n",
        "print(message4)\n",
        "print(message5)"
      ],
      "metadata": {
        "colab": {
          "base_uri": "https://localhost:8080/"
        },
        "id": "-IMKo33waRyc",
        "outputId": "d23ace60-5b9b-45e0-a1a2-94ef9ec0c064"
      },
      "execution_count": 18,
      "outputs": [
        {
          "output_type": "stream",
          "name": "stdout",
          "text": [
            "Hey Mom lets go get some lunch today it has been a week and I want to catch up and see how youre doing.\n",
            "Dad lets go grab a bite to eat before you leave for your cruise.\n",
            "Im starving lets go get a bite to eat at that Indian resturant Hannah.\n",
            "Hannah couldnt make it becuase of the kids.\n",
            "['mom', 'dad', 'josh']\n",
            "Hey Mom jsut checking back in to see if were still on for lunch?\n",
            "DAD! You leave for your cruise tommorow lets go get some food now!\n",
            "Hey Josh just reaching out to see if you wanted to grab a bite to eat?\n"
          ]
        }
      ]
    },
    {
      "cell_type": "code",
      "source": [
        "# TIY 3-6\n",
        "\n",
        "dinner_list = ['mom', 'dad', 'hannah']\n",
        "print(dinner_list)\n",
        "\n",
        "message0 = f'Hey {dinner_list[0].title()} lets go get some lunch today it has been a week and I want to catch up and see how youre doing.'\n",
        "message1 = f'{dinner_list[1].title()} lets go grab a bite to eat before you leave for your cruise.'\n",
        "message2 = f'Im starving lets go get a bite to eat at that Indian resturant {dinner_list[2].title()}.'\n",
        "\n",
        "print(message0)\n",
        "print(message1)\n",
        "print(message2)\n",
        "\n",
        "print(f'{dinner_list[2].title()} couldnt make it becuase of the kids.')\n",
        "\n",
        "del dinner_list[2]\n",
        "dinner_list.append('josh')\n",
        "print(dinner_list)\n",
        "\n",
        "message3 = f'Hey {dinner_list[0].title()} jsut checking back in to see if were still on for lunch?'\n",
        "message4 = f'{dinner_list[1].upper()}! You leave for your cruise tommorow lets go get some food now!'\n",
        "message5 = f'Hey {dinner_list[2].title()} just reaching out to see if you wanted to grab a bite to eat?'\n",
        "\n",
        "print(message3)\n",
        "print(message4)\n",
        "print(message5)\n",
        "\n",
        "print(f'Hey {dinner_list[0].title()}, {dinner_list[1].title()}, and {dinner_list[2].title()} I found a bigger dinner table so I am going to invite a few more people.')\n",
        "\n",
        "dinner_list.insert(0, 'deep')\n",
        "dinner_list.insert(2, 'mikael')\n",
        "dinner_list.append('austin')\n",
        "\n",
        "print(dinner_list)\n",
        "\n",
        "message6 = f'{dinner_list[0].title()} dinner is finally set up be there for 630 Friday night!'\n",
        "message7 = f'{dinner_list[1].title()} dinner is finally set up be there for 630 Friday night!'\n",
        "message8 = f'{dinner_list[2].title()} dinner is finally set up be there for 630 Friday night!'\n",
        "message9 = f'{dinner_list[3].title()} dinner is finally set up be there for 630 Friday night!'\n",
        "message10 = f'{dinner_list[4].title()} dinner is finally set up be there for 630 Friday night!'\n",
        "message11 = f'{dinner_list[5].title()} dinner is finally set up be there for 630 Friday night!'\n",
        "\n",
        "print(message6)\n",
        "print(message7)\n",
        "print(message8)\n",
        "print(message9)\n",
        "print(message10)\n",
        "print(message11)"
      ],
      "metadata": {
        "colab": {
          "base_uri": "https://localhost:8080/"
        },
        "id": "g3EBMMgnclSH",
        "outputId": "675a1006-b2fe-438f-93eb-ce956feda710"
      },
      "execution_count": 22,
      "outputs": [
        {
          "output_type": "stream",
          "name": "stdout",
          "text": [
            "['mom', 'dad', 'hannah']\n",
            "Hey Mom lets go get some lunch today it has been a week and I want to catch up and see how youre doing.\n",
            "Dad lets go grab a bite to eat before you leave for your cruise.\n",
            "Im starving lets go get a bite to eat at that Indian resturant Hannah.\n",
            "Hannah couldnt make it becuase of the kids.\n",
            "['mom', 'dad', 'josh']\n",
            "Hey Mom jsut checking back in to see if were still on for lunch?\n",
            "DAD! You leave for your cruise tommorow lets go get some food now!\n",
            "Hey Josh just reaching out to see if you wanted to grab a bite to eat?\n",
            "Hey Mom, Dad, and Josh I found a bigger dinner table so I am going to invite a few more people.\n",
            "['deep', 'mom', 'mikael', 'dad', 'josh', 'austin']\n",
            "Deep dinner is finally set up be there for 630 Friday night!\n",
            "Mom dinner is finally set up be there for 630 Friday night!\n",
            "Mikael dinner is finally set up be there for 630 Friday night!\n",
            "Dad dinner is finally set up be there for 630 Friday night!\n",
            "Josh dinner is finally set up be there for 630 Friday night!\n",
            "Austin dinner is finally set up be there for 630 Friday night!\n"
          ]
        }
      ]
    },
    {
      "cell_type": "code",
      "source": [
        "# TIY 3-7\n",
        "\n",
        "dinner_list = ['mom', 'dad', 'hannah']\n",
        "print(dinner_list)\n",
        "\n",
        "message0 = f'Hey {dinner_list[0].title()} lets go get some lunch today it has been a week and I want to catch up and see how youre doing.'\n",
        "message1 = f'{dinner_list[1].title()} lets go grab a bite to eat before you leave for your cruise.'\n",
        "message2 = f'Im starving lets go get a bite to eat at that Indian resturant {dinner_list[2].title()}.'\n",
        "\n",
        "print(message0)\n",
        "print(message1)\n",
        "print(message2)\n",
        "\n",
        "print(f'{dinner_list[2].title()} couldnt make it becuase of the kids.')\n",
        "\n",
        "del dinner_list[2]\n",
        "dinner_list.append('josh')\n",
        "print(dinner_list)\n",
        "\n",
        "message3 = f'Hey {dinner_list[0].title()} jsut checking back in to see if were still on for lunch?'\n",
        "message4 = f'{dinner_list[1].upper()}! You leave for your cruise tommorow lets go get some food now!'\n",
        "message5 = f'Hey {dinner_list[2].title()} just reaching out to see if you wanted to grab a bite to eat?'\n",
        "\n",
        "print(message3)\n",
        "print(message4)\n",
        "print(message5)\n",
        "\n",
        "print(f'Hey {dinner_list[0].title()}, {dinner_list[1].title()}, and {dinner_list[2].title()} I found a bigger dinner table so I am going to invite a few more people.')\n",
        "\n",
        "dinner_list.insert(0, 'deep')\n",
        "dinner_list.insert(2, 'mikael')\n",
        "dinner_list.append('austin')\n",
        "\n",
        "print(dinner_list)\n",
        "\n",
        "message6 = f'{dinner_list[0].title()} dinner is finally set up be there for 630 Friday night!'\n",
        "message7 = f'{dinner_list[1].title()} dinner is finally set up be there for 630 Friday night!'\n",
        "message8 = f'{dinner_list[2].title()} dinner is finally set up be there for 630 Friday night!'\n",
        "message9 = f'{dinner_list[3].title()} dinner is finally set up be there for 630 Friday night!'\n",
        "message10 = f'{dinner_list[4].title()} dinner is finally set up be there for 630 Friday night!'\n",
        "message11 = f'{dinner_list[5].title()} dinner is finally set up be there for 630 Friday night!'\n",
        "\n",
        "print(message6)\n",
        "print(message7)\n",
        "print(message8)\n",
        "print(message9)\n",
        "print(message10)\n",
        "print(message11)\n",
        "\n",
        "print(f'Our dinner table wont be ready in time so I will only be able to invite two people to dinner.')\n",
        "\n",
        "uninvite_guest0 = dinner_list.pop(0)\n",
        "print(f'Sorry {uninvite_guest0.title()} but because of some complications youre not invited to dinner. Again im sorry.')\n",
        "\n",
        "uninvite_guest1 = dinner_list.pop(1)\n",
        "print(f'Sorry {uninvite_guest1.title()} but because of some complications youre not invited to dinner. Again im sorry.')\n",
        "\n",
        "uninvite_guest2 = dinner_list.pop(2)\n",
        "print(f'Sorry {uninvite_guest2.title()} but because of some complications youre not invited to dinner. Again im sorry.')\n",
        "\n",
        "uninvite_guest2 = dinner_list.pop(2)\n",
        "print(f'Sorry {uninvite_guest2.title()} but because of some complications youre not invited to dinner. Again im sorry.')\n",
        "\n",
        "print(f'{dinner_list[0].title()}, hey just wanted to let you know dinner is still on for 630 Friday night!')\n",
        "print(f'{dinner_list[1].title()}, hey just wanted to let you know dinner is still on for 630 Friday night!')\n",
        "\n",
        "del dinner_list[1]\n",
        "del dinner_list[0]\n",
        "\n",
        "print(dinner_list)"
      ],
      "metadata": {
        "colab": {
          "base_uri": "https://localhost:8080/"
        },
        "id": "hKThK0FUfJIC",
        "outputId": "8f9c45bb-8521-4ff8-b9e7-82e8244a65c9"
      },
      "execution_count": 30,
      "outputs": [
        {
          "output_type": "stream",
          "name": "stdout",
          "text": [
            "['mom', 'dad', 'hannah']\n",
            "Hey Mom lets go get some lunch today it has been a week and I want to catch up and see how youre doing.\n",
            "Dad lets go grab a bite to eat before you leave for your cruise.\n",
            "Im starving lets go get a bite to eat at that Indian resturant Hannah.\n",
            "Hannah couldnt make it becuase of the kids.\n",
            "['mom', 'dad', 'josh']\n",
            "Hey Mom jsut checking back in to see if were still on for lunch?\n",
            "DAD! You leave for your cruise tommorow lets go get some food now!\n",
            "Hey Josh just reaching out to see if you wanted to grab a bite to eat?\n",
            "Hey Mom, Dad, and Josh I found a bigger dinner table so I am going to invite a few more people.\n",
            "['deep', 'mom', 'mikael', 'dad', 'josh', 'austin']\n",
            "Deep dinner is finally set up be there for 630 Friday night!\n",
            "Mom dinner is finally set up be there for 630 Friday night!\n",
            "Mikael dinner is finally set up be there for 630 Friday night!\n",
            "Dad dinner is finally set up be there for 630 Friday night!\n",
            "Josh dinner is finally set up be there for 630 Friday night!\n",
            "Austin dinner is finally set up be there for 630 Friday night!\n",
            "Our dinner table wont be ready in time so I will only be able to invite two people to dinner.\n",
            "Sorry Deep but because of some complications youre not invited to dinner. Again im sorry.\n",
            "Sorry Mikael but because of some complications youre not invited to dinner. Again im sorry.\n",
            "Sorry Josh but because of some complications youre not invited to dinner. Again im sorry.\n",
            "Sorry Austin but because of some complications youre not invited to dinner. Again im sorry.\n",
            "Mom, hey just wanted to let you know dinner is still on for 630 Friday night!\n",
            "Dad, hey just wanted to let you know dinner is still on for 630 Friday night!\n",
            "[]\n"
          ]
        }
      ]
    },
    {
      "cell_type": "code",
      "source": [
        "# TIY 3-8\n",
        "\n",
        "places = ['japan', 'alaska', 'everest', 'egypt', 'new Zealand']\n",
        "print(places)\n",
        "print(sorted(places))\n",
        "print(places)\n",
        "places2 = sorted(places, key=places.index, reverse=True)\n",
        "print(places2)\n",
        "print(places)\n",
        "places.reverse()\n",
        "print(places)\n",
        "places.reverse()\n",
        "print(places)\n",
        "places.sort()\n",
        "print(places)\n",
        "places.sort(reverse=True)\n",
        "print(places)"
      ],
      "metadata": {
        "colab": {
          "base_uri": "https://localhost:8080/"
        },
        "id": "jUw5NfmNjT5z",
        "outputId": "866bfb73-2974-4842-b8f5-f7509d52a831"
      },
      "execution_count": 49,
      "outputs": [
        {
          "output_type": "stream",
          "name": "stdout",
          "text": [
            "['japan', 'alaska', 'everest', 'egypt', 'new Zealand']\n",
            "['alaska', 'egypt', 'everest', 'japan', 'new Zealand']\n",
            "['japan', 'alaska', 'everest', 'egypt', 'new Zealand']\n",
            "['new Zealand', 'egypt', 'everest', 'alaska', 'japan']\n",
            "['japan', 'alaska', 'everest', 'egypt', 'new Zealand']\n",
            "['new Zealand', 'egypt', 'everest', 'alaska', 'japan']\n",
            "['japan', 'alaska', 'everest', 'egypt', 'new Zealand']\n",
            "['alaska', 'egypt', 'everest', 'japan', 'new Zealand']\n",
            "['new Zealand', 'japan', 'everest', 'egypt', 'alaska']\n"
          ]
        }
      ]
    },
    {
      "cell_type": "code",
      "source": [
        "# TIY 3-9\n",
        "\n",
        "dinner_list = ['mom', 'dad', 'hannah']\n",
        "print(dinner_list)\n",
        "len(dinner_list)"
      ],
      "metadata": {
        "colab": {
          "base_uri": "https://localhost:8080/"
        },
        "id": "IblsflsVs-y3",
        "outputId": "5867f58c-5e70-468f-a125-b3503b402470"
      },
      "execution_count": 51,
      "outputs": [
        {
          "output_type": "stream",
          "name": "stdout",
          "text": [
            "['mom', 'dad', 'hannah']\n"
          ]
        },
        {
          "output_type": "execute_result",
          "data": {
            "text/plain": [
              "3"
            ]
          },
          "metadata": {},
          "execution_count": 51
        }
      ]
    },
    {
      "cell_type": "code",
      "source": [
        "# TIY 3-10\n",
        "\n",
        "# Doing every single function in the chapter felt extremly repetitive since I have a practice colab where I work on every function throught the chapter already.\n",
        "\n",
        "list_of_lists = ['mom', 'japan', 'kia']\n",
        "print(list_of_lists)\n",
        "print(list_of_lists[0])\n",
        "print(list_of_lists[0].title())\n",
        "print(list_of_lists[1])\n",
        "print(list_of_lists[2])\n",
        "print(list_of_lists[-1])\n",
        "message = f'This is my List of Lists! In it there is my {list_of_lists[0].title()}.'\n",
        "\n",
        "print(message)\n",
        "\n",
        "list_of_lists[0] = 'everest'\n",
        "print(list_of_lists)\n",
        "\n",
        "list_of_lists.append('mom')\n",
        "print(list_of_lists)\n",
        "\n",
        "list2 = []\n",
        "\n",
        "list2.append('1')\n",
        "list2.append('2')\n",
        "list2.append('3')\n",
        "\n",
        "print(list2)\n",
        "\n",
        "list_of_lists.insert(0, 'airplane')\n",
        "print(list_of_lists)\n",
        "\n",
        "del list_of_lists[0]\n",
        "print(list_of_lists)\n",
        "\n",
        "del list_of_lists[1]\n",
        "print(list_of_lists)\n",
        "\n",
        "pop_list = list_of_lists.pop()\n",
        "print(list_of_lists)\n",
        "print(pop_list)\n",
        "\n",
        "number_list = list2.pop()\n",
        "print(f\"The last number to be removed was {number_list}.\")\n",
        "\n",
        "print(list2)\n",
        "\n",
        "list3 = list2.pop(0)\n",
        "print(f\"The first number {list3} will be removed.\")\n",
        "print(list2)\n",
        "\n",
        "list2.remove('2')\n",
        "print(list2)\n",
        "\n",
        "another_one = 'kia'\n",
        "list_of_lists.remove(another_one)\n",
        "print(list_of_lists)\n",
        "print(f\"\\n{another_one.title()} I am running out of things to remove lol.\")\n",
        "\n",
        "list_of_lists.append('dad')\n",
        "list_of_lists.append('josh')\n",
        "list_of_lists.append('new zealand')\n",
        "\n",
        "print(list_of_lists)\n",
        "\n",
        "list_of_lists.sort()\n",
        "print(list_of_lists)\n",
        "\n",
        "list_of_lists.sort(reverse=True)\n",
        "print(list_of_lists)\n",
        "\n",
        "print(\"This is a list:\")\n",
        "print(list_of_lists)\n",
        "\n",
        "print(\"\\nHere is a sorted list:\")\n",
        "print(list_of_lists)\n",
        "\n",
        "print(\"\\nHere is the original list:\")\n",
        "print(list_of_lists)\n",
        "\n",
        "# I am going to cut it here because the sort option kills all other sorting options."
      ],
      "metadata": {
        "colab": {
          "base_uri": "https://localhost:8080/"
        },
        "id": "I5dQH9xVtVWg",
        "outputId": "508d8ad8-cb88-4692-f6ce-f1d683af7644"
      },
      "execution_count": 77,
      "outputs": [
        {
          "output_type": "stream",
          "name": "stdout",
          "text": [
            "['mom', 'japan', 'kia']\n",
            "mom\n",
            "Mom\n",
            "japan\n",
            "kia\n",
            "kia\n",
            "This is my List of Lists! In it there is my Mom.\n",
            "['everest', 'japan', 'kia']\n",
            "['everest', 'japan', 'kia', 'mom']\n",
            "['1', '2', '3']\n",
            "['airplane', 'everest', 'japan', 'kia', 'mom']\n",
            "['everest', 'japan', 'kia', 'mom']\n",
            "['everest', 'kia', 'mom']\n",
            "['everest', 'kia']\n",
            "mom\n",
            "The last number to be removed was 3.\n",
            "['1', '2']\n",
            "The first number 1 will be removed.\n",
            "['2']\n",
            "[]\n",
            "['everest']\n",
            "\n",
            "Kia I am running out of things to remove lol.\n",
            "['everest', 'dad', 'josh', 'new zealand']\n",
            "['dad', 'everest', 'josh', 'new zealand']\n",
            "['new zealand', 'josh', 'everest', 'dad']\n",
            "This is a list:\n",
            "['new zealand', 'josh', 'everest', 'dad']\n",
            "\n",
            "Here is a sorted list:\n",
            "['new zealand', 'josh', 'everest', 'dad']\n",
            "\n",
            "Here is the original list:\n",
            "['new zealand', 'josh', 'everest', 'dad']\n"
          ]
        }
      ]
    },
    {
      "cell_type": "code",
      "source": [
        "# TIY 3-11\n",
        "\n",
        "motorcycles = ['honda', 'yamaha', 'suzuki']\n",
        "print(motorcycles[3])\n"
      ],
      "metadata": {
        "colab": {
          "base_uri": "https://localhost:8080/",
          "height": 176
        },
        "id": "vEB4nyOt0fqI",
        "outputId": "b609f6fe-b941-44a8-fe29-bf497088c7d8"
      },
      "execution_count": 78,
      "outputs": [
        {
          "output_type": "error",
          "ename": "IndexError",
          "evalue": "list index out of range",
          "traceback": [
            "\u001b[0;31m---------------------------------------------------------------------------\u001b[0m",
            "\u001b[0;31mIndexError\u001b[0m                                Traceback (most recent call last)",
            "\u001b[0;32m<ipython-input-78-3f9562c1d3e3>\u001b[0m in \u001b[0;36m<cell line: 4>\u001b[0;34m()\u001b[0m\n\u001b[1;32m      2\u001b[0m \u001b[0;34m\u001b[0m\u001b[0m\n\u001b[1;32m      3\u001b[0m \u001b[0mmotorcycles\u001b[0m \u001b[0;34m=\u001b[0m \u001b[0;34m[\u001b[0m\u001b[0;34m'honda'\u001b[0m\u001b[0;34m,\u001b[0m \u001b[0;34m'yamaha'\u001b[0m\u001b[0;34m,\u001b[0m \u001b[0;34m'suzuki'\u001b[0m\u001b[0;34m]\u001b[0m\u001b[0;34m\u001b[0m\u001b[0;34m\u001b[0m\u001b[0m\n\u001b[0;32m----> 4\u001b[0;31m \u001b[0mprint\u001b[0m\u001b[0;34m(\u001b[0m\u001b[0mmotorcycles\u001b[0m\u001b[0;34m[\u001b[0m\u001b[0;36m3\u001b[0m\u001b[0;34m]\u001b[0m\u001b[0;34m)\u001b[0m\u001b[0;34m\u001b[0m\u001b[0;34m\u001b[0m\u001b[0m\n\u001b[0m",
            "\u001b[0;31mIndexError\u001b[0m: list index out of range"
          ]
        }
      ]
    }
  ]
}
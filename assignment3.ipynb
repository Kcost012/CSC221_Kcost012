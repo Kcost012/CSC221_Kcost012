{
  "nbformat": 4,
  "nbformat_minor": 0,
  "metadata": {
    "colab": {
      "provenance": [],
      "authorship_tag": "ABX9TyMpaMIL9G+eckvRBKb59ZsQ",
      "include_colab_link": true
    },
    "kernelspec": {
      "name": "python3",
      "display_name": "Python 3"
    },
    "language_info": {
      "name": "python"
    }
  },
  "cells": [
    {
      "cell_type": "markdown",
      "metadata": {
        "id": "view-in-github",
        "colab_type": "text"
      },
      "source": [
        "<a href=\"https://colab.research.google.com/github/Kcost012/CSC221_Kcost012/blob/main/assignment3.ipynb\" target=\"_parent\"><img src=\"https://colab.research.google.com/assets/colab-badge.svg\" alt=\"Open In Colab\"/></a>"
      ]
    },
    {
      "cell_type": "code",
      "source": [
        "# TIY 2-1\n",
        "\n",
        "message = \"The name is Costin, Kayleb Costin.\"\n",
        "print(message)\n"
      ],
      "metadata": {
        "colab": {
          "base_uri": "https://localhost:8080/"
        },
        "id": "zAKoouwIEu6H",
        "outputId": "0878eddb-1bc7-4422-ad0b-ea283ed9011c"
      },
      "execution_count": 7,
      "outputs": [
        {
          "output_type": "stream",
          "name": "stdout",
          "text": [
            "The name is Costin, Kayleb Costin.\n"
          ]
        }
      ]
    },
    {
      "cell_type": "code",
      "source": [
        "# TIY 2-2\n",
        "\n",
        "message = \"This is the first message before I change the value of the variable!\"\n",
        "print(message)\n",
        "\n",
        "message = \"This is the second message!\"\n",
        "print(message)"
      ],
      "metadata": {
        "colab": {
          "base_uri": "https://localhost:8080/"
        },
        "id": "s0_We8GhFMO3",
        "outputId": "119d90d7-921f-4e25-b45a-e9cb959d53b0"
      },
      "execution_count": 12,
      "outputs": [
        {
          "output_type": "stream",
          "name": "stdout",
          "text": [
            "This is the first message before I change the value of the variable!\n",
            "This is the second message!\n"
          ]
        }
      ]
    },
    {
      "cell_type": "code",
      "source": [
        "# TIY 2-3\n",
        "\n",
        "name = \"Kayleb\"\n",
        "print(f\"Hello there {name}, would you like to learn some pyhton today?\")"
      ],
      "metadata": {
        "colab": {
          "base_uri": "https://localhost:8080/"
        },
        "id": "Fud7jNrWGWgo",
        "outputId": "85a866b9-6bc9-4d7e-dcae-3d3da4296e61"
      },
      "execution_count": 17,
      "outputs": [
        {
          "output_type": "stream",
          "name": "stdout",
          "text": [
            "Hello there Kayleb, would you like to learn some pyhton today?\n"
          ]
        }
      ]
    },
    {
      "cell_type": "code",
      "source": [
        "# TIY 2-4\n",
        "\n",
        "name = \"kayleb costin\"\n",
        "print(name.upper())\n",
        "print(name.lower())\n",
        "print(name.title())"
      ],
      "metadata": {
        "colab": {
          "base_uri": "https://localhost:8080/"
        },
        "id": "oFwkyjdxG_sA",
        "outputId": "04011074-14e4-43da-ff73-95f39ce81cba"
      },
      "execution_count": 18,
      "outputs": [
        {
          "output_type": "stream",
          "name": "stdout",
          "text": [
            "KAYLEB COSTIN\n",
            "kayleb costin\n",
            "Kayleb Costin\n"
          ]
        }
      ]
    },
    {
      "cell_type": "code",
      "source": [
        "# TIY 2-5\n",
        "\n",
        "print(f'Saitama from One Punch Man said, \"Human Strength lies in the ability to change yourself.\"')"
      ],
      "metadata": {
        "colab": {
          "base_uri": "https://localhost:8080/"
        },
        "id": "fN-SOdwGH7AI",
        "outputId": "de772e42-4154-49f4-bde5-dfc6d9ab8896"
      },
      "execution_count": 20,
      "outputs": [
        {
          "output_type": "stream",
          "name": "stdout",
          "text": [
            "Saitama from One Punch Man said, \"Human Strength lies in the ability to change yourself.\"\n"
          ]
        }
      ]
    },
    {
      "cell_type": "code",
      "source": [
        "# TIY 2-6\n",
        "\n",
        "famous_person = \"Saitama \"\n",
        "message = 'from One Punch Man said,\"Human Strength lies in the ability to change yourself.\"'\n",
        "print(f\"{famous_person}{message}\")"
      ],
      "metadata": {
        "colab": {
          "base_uri": "https://localhost:8080/"
        },
        "id": "Pj7JidJ8IzA_",
        "outputId": "58580690-4642-4f64-d90a-913f2a210415"
      },
      "execution_count": 24,
      "outputs": [
        {
          "output_type": "stream",
          "name": "stdout",
          "text": [
            "Saitama from One Punch Man said,\"Human Strength lies in the ability to change yourself.\"\n"
          ]
        }
      ]
    },
    {
      "cell_type": "code",
      "source": [
        "# TIY 2-7\n",
        "\n",
        "my_name = \" Kayleb Joseph Costin \"\n",
        "print(f\"\\t\\n{my_name}\")\n",
        "\n",
        "print({my_name.lstrip()})\n",
        "print({my_name.rstrip()})\n",
        "print({my_name.strip()})"
      ],
      "metadata": {
        "colab": {
          "base_uri": "https://localhost:8080/"
        },
        "id": "mS6bD4Y5JucN",
        "outputId": "ad74286c-c427-4a66-a743-f0b94b22aea9"
      },
      "execution_count": 58,
      "outputs": [
        {
          "output_type": "stream",
          "name": "stdout",
          "text": [
            "\t\n",
            " Kayleb Joseph Costin \n",
            "{'Kayleb Joseph Costin '}\n",
            "{' Kayleb Joseph Costin'}\n",
            "{'Kayleb Joseph Costin'}\n"
          ]
        }
      ]
    },
    {
      "cell_type": "code",
      "source": [
        "# TIY 2-8\n",
        "filename = \"python_notes.txt\"\n",
        "filename.removesuffix(\".txt\")"
      ],
      "metadata": {
        "colab": {
          "base_uri": "https://localhost:8080/",
          "height": 36
        },
        "id": "denauU3xW5mw",
        "outputId": "5aad6456-7ebb-474b-8d6c-87f0fae13f6d"
      },
      "execution_count": 62,
      "outputs": [
        {
          "output_type": "execute_result",
          "data": {
            "text/plain": [
              "'python_notes'"
            ],
            "application/vnd.google.colaboratory.intrinsic+json": {
              "type": "string"
            }
          },
          "metadata": {},
          "execution_count": 62
        }
      ]
    },
    {
      "cell_type": "code",
      "source": [
        "# TIY 2-9\n",
        "\n",
        "print(7+1)\n",
        "print(17-9)\n",
        "print(88/11)\n",
        "print(4*2)"
      ],
      "metadata": {
        "colab": {
          "base_uri": "https://localhost:8080/"
        },
        "id": "2r39WlKSXxDf",
        "outputId": "c317aae3-d265-46ec-9ca6-278f2a17469c"
      },
      "execution_count": 64,
      "outputs": [
        {
          "output_type": "stream",
          "name": "stdout",
          "text": [
            "8\n",
            "8\n",
            "8.0\n",
            "8\n"
          ]
        }
      ]
    },
    {
      "cell_type": "code",
      "source": [
        "# TIY 2-10\n",
        "\n",
        "fav_num = '13'\n",
        "print(f'My favorite number is, {fav_num}!')"
      ],
      "metadata": {
        "colab": {
          "base_uri": "https://localhost:8080/"
        },
        "id": "T20Kpj_0b1S9",
        "outputId": "85f8b3b7-d158-476d-b8ca-b9f243f93657"
      },
      "execution_count": 66,
      "outputs": [
        {
          "output_type": "stream",
          "name": "stdout",
          "text": [
            "My favorite number is, 13!\n"
          ]
        }
      ]
    },
    {
      "cell_type": "code",
      "source": [
        "# TIY 2-11\n",
        "\n",
        "# This TIY is just looking to add a comment to previous codes written.\n",
        "\n",
        "# This code prints a message stating my favorite number!\n",
        "fav_num = '13'\n",
        "print(f'My favorite number is, {fav_num}!') # End of code"
      ],
      "metadata": {
        "colab": {
          "base_uri": "https://localhost:8080/"
        },
        "id": "N4LFOH06cda0",
        "outputId": "24cbf6c4-6cbb-4bdb-d5fa-731a907877dd"
      },
      "execution_count": 68,
      "outputs": [
        {
          "output_type": "stream",
          "name": "stdout",
          "text": [
            "My favorite number is, 13!\n"
          ]
        }
      ]
    },
    {
      "cell_type": "code",
      "source": [
        "# TIY 2-12\n",
        "\n",
        "import this"
      ],
      "metadata": {
        "colab": {
          "base_uri": "https://localhost:8080/"
        },
        "id": "W8KEbDZec3RD",
        "outputId": "c8b24712-0d1e-47e8-c00c-837ca6e2f2af"
      },
      "execution_count": 69,
      "outputs": [
        {
          "output_type": "stream",
          "name": "stdout",
          "text": [
            "The Zen of Python, by Tim Peters\n",
            "\n",
            "Beautiful is better than ugly.\n",
            "Explicit is better than implicit.\n",
            "Simple is better than complex.\n",
            "Complex is better than complicated.\n",
            "Flat is better than nested.\n",
            "Sparse is better than dense.\n",
            "Readability counts.\n",
            "Special cases aren't special enough to break the rules.\n",
            "Although practicality beats purity.\n",
            "Errors should never pass silently.\n",
            "Unless explicitly silenced.\n",
            "In the face of ambiguity, refuse the temptation to guess.\n",
            "There should be one-- and preferably only one --obvious way to do it.\n",
            "Although that way may not be obvious at first unless you're Dutch.\n",
            "Now is better than never.\n",
            "Although never is often better than *right* now.\n",
            "If the implementation is hard to explain, it's a bad idea.\n",
            "If the implementation is easy to explain, it may be a good idea.\n",
            "Namespaces are one honking great idea -- let's do more of those!\n"
          ]
        }
      ]
    }
  ]
}
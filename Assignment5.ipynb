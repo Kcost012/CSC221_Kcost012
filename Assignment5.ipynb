{
  "nbformat": 4,
  "nbformat_minor": 0,
  "metadata": {
    "colab": {
      "provenance": [],
      "authorship_tag": "ABX9TyP8NChnj2RAzlKEY3bBcKSc",
      "include_colab_link": true
    },
    "kernelspec": {
      "name": "python3",
      "display_name": "Python 3"
    },
    "language_info": {
      "name": "python"
    }
  },
  "cells": [
    {
      "cell_type": "markdown",
      "metadata": {
        "id": "view-in-github",
        "colab_type": "text"
      },
      "source": [
        "<a href=\"https://colab.research.google.com/github/Kcost012/CSC221_Kcost012/blob/main/Assignment5.ipynb\" target=\"_parent\"><img src=\"https://colab.research.google.com/assets/colab-badge.svg\" alt=\"Open In Colab\"/></a>"
      ]
    },
    {
      "cell_type": "code",
      "execution_count": null,
      "metadata": {
        "id": "jegi5Cyo1JMh",
        "colab": {
          "base_uri": "https://localhost:8080/"
        },
        "outputId": "f1b9ccee-1189-473d-eeeb-209499b5f970"
      },
      "outputs": [
        {
          "output_type": "stream",
          "name": "stdout",
          "text": [
            "jalapeno\n",
            "Jalapeno pizza is an amazing delicous pizza!\n",
            "\n",
            "bacon\n",
            "Bacon pizza is an amazing delicous pizza!\n",
            "\n",
            "onion\n",
            "Onion pizza is an amazing delicous pizza!\n",
            "\n",
            "I really like pizza\n"
          ]
        }
      ],
      "source": [
        "# TIY 4-1\n",
        "\n",
        "pizzas = ['jalapeno', 'bacon', 'onion']\n",
        "for pizza in pizzas:\n",
        "  print(pizza)\n",
        "  print(f\"{pizza.title()} pizza is an amazing delicous pizza!\\n\")\n",
        "\n",
        "print(\"I really like pizza\")"
      ]
    },
    {
      "cell_type": "code",
      "source": [
        "# TIY 4-2\n",
        "\n",
        "animals = ['puma', 'lion', 'tiger']\n",
        "for animal in animals:\n",
        "  print(animal)\n",
        "  print(f\"A {animal}, is a very dangerous animal.\\n\")\n",
        "\n",
        "print(\"All of these animals are big cats.\")"
      ],
      "metadata": {
        "colab": {
          "base_uri": "https://localhost:8080/"
        },
        "id": "V2Wqr41HYTwR",
        "outputId": "ebc150a1-35df-4e7c-be9f-00508acc2c45"
      },
      "execution_count": null,
      "outputs": [
        {
          "output_type": "stream",
          "name": "stdout",
          "text": [
            "puma\n",
            "A puma, is a very dangerous animal.\n",
            "\n",
            "lion\n",
            "A lion, is a very dangerous animal.\n",
            "\n",
            "tiger\n",
            "A tiger, is a very dangerous animal.\n",
            "\n",
            "All of these animals are big cats.\n"
          ]
        }
      ]
    },
    {
      "cell_type": "code",
      "source": [
        "# TIY 4-3\n",
        "\n",
        "for value in range(1, 21):\n",
        "  print(value)"
      ],
      "metadata": {
        "colab": {
          "base_uri": "https://localhost:8080/"
        },
        "id": "rwVQX1-1u3_5",
        "outputId": "68dfa800-0c57-4592-980b-2cd03702e7ec"
      },
      "execution_count": null,
      "outputs": [
        {
          "output_type": "stream",
          "name": "stdout",
          "text": [
            "1\n",
            "2\n",
            "3\n",
            "4\n",
            "5\n",
            "6\n",
            "7\n",
            "8\n",
            "9\n",
            "10\n",
            "11\n",
            "12\n",
            "13\n",
            "14\n",
            "15\n",
            "16\n",
            "17\n",
            "18\n",
            "19\n",
            "20\n"
          ]
        }
      ]
    },
    {
      "cell_type": "code",
      "source": [
        "# TIY 4-4\n",
        "\n",
        "numbers = []\n",
        "for value in range(1, 1000001):\n",
        "  print(value)"
      ],
      "metadata": {
        "id": "Du9AgLldvBp1"
      },
      "execution_count": null,
      "outputs": []
    },
    {
      "cell_type": "code",
      "source": [
        "# TIY 4-5\n",
        "\n",
        "numbers = list(range(1, 1000001))\n",
        "max(numbers)"
      ],
      "metadata": {
        "colab": {
          "base_uri": "https://localhost:8080/"
        },
        "id": "-knNAp2BvyZz",
        "outputId": "b732b76d-34a0-4532-8524-05e52f89b761"
      },
      "execution_count": null,
      "outputs": [
        {
          "output_type": "execute_result",
          "data": {
            "text/plain": [
              "1000000"
            ]
          },
          "metadata": {},
          "execution_count": 7
        }
      ]
    },
    {
      "cell_type": "code",
      "source": [
        "# TIY 4-5 Continued\n",
        "\n",
        "numbers = list(range(1, 1000001))\n",
        "min(numbers)"
      ],
      "metadata": {
        "colab": {
          "base_uri": "https://localhost:8080/"
        },
        "id": "zKeEkVs6wpll",
        "outputId": "9d4311a5-0a0c-4dc2-fa00-7ba7151b68f5"
      },
      "execution_count": null,
      "outputs": [
        {
          "output_type": "execute_result",
          "data": {
            "text/plain": [
              "1"
            ]
          },
          "metadata": {},
          "execution_count": 8
        }
      ]
    },
    {
      "cell_type": "code",
      "source": [
        "# TIY 4-5 Continued\n",
        "\n",
        "numbers = list(range(1, 1000001))\n",
        "sum(numbers)"
      ],
      "metadata": {
        "colab": {
          "base_uri": "https://localhost:8080/"
        },
        "id": "S6yDCTz4wxDN",
        "outputId": "37ba82f4-04b4-4eff-b536-7b9eeb07eda6"
      },
      "execution_count": null,
      "outputs": [
        {
          "output_type": "execute_result",
          "data": {
            "text/plain": [
              "500000500000"
            ]
          },
          "metadata": {},
          "execution_count": 9
        }
      ]
    },
    {
      "cell_type": "code",
      "source": [
        "# TIY 4-6\n",
        "\n",
        "odd_numbers = []\n",
        "for value in range(1, 21, 2):\n",
        "  print(value)"
      ],
      "metadata": {
        "colab": {
          "base_uri": "https://localhost:8080/"
        },
        "id": "KxEqd6hZxCfT",
        "outputId": "93760f86-2f9e-4c4f-df9e-f8c3ab5cda3c"
      },
      "execution_count": null,
      "outputs": [
        {
          "output_type": "stream",
          "name": "stdout",
          "text": [
            "1\n",
            "3\n",
            "5\n",
            "7\n",
            "9\n",
            "11\n",
            "13\n",
            "15\n",
            "17\n",
            "19\n"
          ]
        }
      ]
    },
    {
      "cell_type": "code",
      "source": [
        "# TIY 4-7\n",
        "\n",
        "multiples_3 = [value*3 for value in range(3, 11)]\n",
        "print(multiples_3)"
      ],
      "metadata": {
        "colab": {
          "base_uri": "https://localhost:8080/"
        },
        "id": "EFIeJl6BzKEd",
        "outputId": "22dfd5d3-f1f9-4e90-a4f4-33cbec34f4ee"
      },
      "execution_count": null,
      "outputs": [
        {
          "output_type": "stream",
          "name": "stdout",
          "text": [
            "[9, 12, 15, 18, 21, 24, 27, 30]\n"
          ]
        }
      ]
    },
    {
      "cell_type": "code",
      "source": [
        "# TIY 4-8\n",
        "\n",
        "cubes = [value**3 for value in range(1, 11)]\n",
        "print(cubes)"
      ],
      "metadata": {
        "colab": {
          "base_uri": "https://localhost:8080/"
        },
        "id": "2NyyFdiAzzJL",
        "outputId": "4df6236d-051d-4801-c903-1fc8ad202f51"
      },
      "execution_count": null,
      "outputs": [
        {
          "output_type": "stream",
          "name": "stdout",
          "text": [
            "[1, 8, 27, 64, 125, 216, 343, 512, 729, 1000]\n"
          ]
        }
      ]
    },
    {
      "cell_type": "code",
      "source": [
        "# TIY 4-9\n",
        "\n",
        "cubes = [value**3 for value in range(1, 11)]\n",
        "print(cubes)"
      ],
      "metadata": {
        "colab": {
          "base_uri": "https://localhost:8080/"
        },
        "id": "fxQmu4Vl0FVm",
        "outputId": "be94cd43-eccd-4569-c575-0780a4a768be"
      },
      "execution_count": null,
      "outputs": [
        {
          "output_type": "stream",
          "name": "stdout",
          "text": [
            "[1, 8, 27, 64, 125, 216, 343, 512, 729, 1000]\n"
          ]
        }
      ]
    },
    {
      "cell_type": "code",
      "source": [
        "# TIY 4-10\n",
        "\n",
        "my_foods = ['wraps', 'ramen', 'curry', 'wings', 'michigans', 'ribs', 'corn on the cob']\n",
        "print(\"Here are the first three items in my list:\")\n",
        "for my_food in my_foods[0:3]:\n",
        "  print(my_food.title())\n",
        "\n",
        "print(\"The three items in the middle of my list are:\")\n",
        "for my_food in my_foods[2:5]:\n",
        "  print(my_food.title())\n",
        "\n",
        "print(\"The last three items in my list are:\")\n",
        "for my_food in my_foods[4:7]:\n",
        "  print(my_food.title())"
      ],
      "metadata": {
        "colab": {
          "base_uri": "https://localhost:8080/"
        },
        "id": "lfnydX4Y0w1r",
        "outputId": "8a72ac62-3350-4bda-9dfb-93a10967845e"
      },
      "execution_count": null,
      "outputs": [
        {
          "output_type": "stream",
          "name": "stdout",
          "text": [
            "Here are the first three items in my list:\n",
            "Wraps\n",
            "Ramen\n",
            "Curry\n",
            "The three items in the middle of my list are:\n",
            "Curry\n",
            "Wings\n",
            "Michigans\n",
            "The last three items in my list are:\n",
            "Michigans\n",
            "Ribs\n",
            "Corn On The Cob\n"
          ]
        }
      ]
    },
    {
      "cell_type": "code",
      "source": [
        "# TIY 4-11\n",
        "\n",
        "pizzas = ['jalapeno', 'bacon', 'onion']\n",
        "friend_pizzas = pizzas[:]\n",
        "\n",
        "pizzas.append('pepperoni')\n",
        "friend_pizzas.append('mushroom')\n",
        "\n",
        "print(f\"My favorite pizzas are:\")\n",
        "for pizza in pizzas[:]:\n",
        "  print(pizza)\n",
        "\n",
        "print(f\"My friends favorite pizzas are:\")\n",
        "for friend_pizza in friend_pizzas[:]:\n",
        "  print(friend_pizza)"
      ],
      "metadata": {
        "colab": {
          "base_uri": "https://localhost:8080/"
        },
        "id": "UiKcO_mS9N_5",
        "outputId": "d05eaab4-c899-4ed0-8e5f-6848aed6d18e"
      },
      "execution_count": null,
      "outputs": [
        {
          "output_type": "stream",
          "name": "stdout",
          "text": [
            "My favorite pizzas are:\n",
            "jalapeno\n",
            "bacon\n",
            "onion\n",
            "pepperoni\n",
            "My friends favorite pizzas are:\n",
            "jalapeno\n",
            "bacon\n",
            "onion\n",
            "mushroom\n"
          ]
        }
      ]
    },
    {
      "cell_type": "code",
      "source": [
        "# TIY 4-12\n",
        "\n",
        "# This example asks to print two food lists with a for loop because they did not have examples using food.\n",
        "# I just did this in the previous example so it is repetitive and will just copy and paste my awnser to TIY 4-11."
      ],
      "metadata": {
        "id": "bNKojoGGARv0"
      },
      "execution_count": null,
      "outputs": []
    },
    {
      "cell_type": "code",
      "source": [
        "# TIY 4-13\n",
        "\n",
        "buffets = ('wings', 'egg rolls', 'stir fry', 'fries', 'nachos')\n",
        "for buffet in buffets[:]:\n",
        "  print(buffet)\n",
        "\n",
        "buffets[0] = 'crab'"
      ],
      "metadata": {
        "colab": {
          "base_uri": "https://localhost:8080/",
          "height": 263
        },
        "id": "aGql0JvEBBUj",
        "outputId": "14248c5c-eb53-41ba-f852-df964ce2a344"
      },
      "execution_count": null,
      "outputs": [
        {
          "output_type": "stream",
          "name": "stdout",
          "text": [
            "wings\n",
            "egg rolls\n",
            "stir fry\n",
            "fries\n",
            "nachos\n"
          ]
        },
        {
          "output_type": "error",
          "ename": "TypeError",
          "evalue": "'tuple' object does not support item assignment",
          "traceback": [
            "\u001b[0;31m---------------------------------------------------------------------------\u001b[0m",
            "\u001b[0;31mTypeError\u001b[0m                                 Traceback (most recent call last)",
            "\u001b[0;32m<ipython-input-38-202bfb647fc5>\u001b[0m in \u001b[0;36m<cell line: 7>\u001b[0;34m()\u001b[0m\n\u001b[1;32m      5\u001b[0m   \u001b[0mprint\u001b[0m\u001b[0;34m(\u001b[0m\u001b[0mbuffet\u001b[0m\u001b[0;34m)\u001b[0m\u001b[0;34m\u001b[0m\u001b[0;34m\u001b[0m\u001b[0m\n\u001b[1;32m      6\u001b[0m \u001b[0;34m\u001b[0m\u001b[0m\n\u001b[0;32m----> 7\u001b[0;31m \u001b[0mbuffets\u001b[0m\u001b[0;34m[\u001b[0m\u001b[0;36m0\u001b[0m\u001b[0;34m]\u001b[0m \u001b[0;34m=\u001b[0m \u001b[0;34m'crab'\u001b[0m\u001b[0;34m\u001b[0m\u001b[0;34m\u001b[0m\u001b[0m\n\u001b[0m",
            "\u001b[0;31mTypeError\u001b[0m: 'tuple' object does not support item assignment"
          ]
        }
      ]
    },
    {
      "cell_type": "code",
      "source": [
        "# TIY 4-13 Continued\n",
        "\n",
        "buffets = ('wings', 'egg rolls', 'stir fry', 'fries', 'nachos')\n",
        "print(\"Original menu:\")\n",
        "for buffet in buffets[:]:\n",
        "  print(buffet)\n",
        "\n",
        "buffets = ('wings', 'fries', 'nachos', 'crab', 'soup')\n",
        "print(\"\\nNew menu:\")\n",
        "for buffet in buffets[:]:\n",
        "  print(buffet)"
      ],
      "metadata": {
        "colab": {
          "base_uri": "https://localhost:8080/"
        },
        "id": "VJ2mNpb9DqAa",
        "outputId": "85940f4e-3853-4a24-d6f2-f2f8e9a7d090"
      },
      "execution_count": null,
      "outputs": [
        {
          "output_type": "stream",
          "name": "stdout",
          "text": [
            "Original menu:\n",
            "wings\n",
            "egg rolls\n",
            "stir fry\n",
            "fries\n",
            "nachos\n",
            "\n",
            "New menu:\n",
            "wings\n",
            "fries\n",
            "nachos\n",
            "crab\n",
            "soup\n"
          ]
        }
      ]
    },
    {
      "cell_type": "code",
      "source": [
        "# TIY 4-14\n",
        "\n",
        "# This TIY reccomends visiting PEP 8 and looking through some of its guidelines."
      ],
      "metadata": {
        "id": "V_g7YNqnHOND"
      },
      "execution_count": null,
      "outputs": []
    },
    {
      "cell_type": "code",
      "source": [
        "# TIY 4-15\n",
        "\n",
        "# This TIY recommends going through and trying some of the PEP8 style guide\n",
        "# Options that were recommended like reducing the size of a code line and\n",
        "# Changing your indentation spacing. I changed my indentation spacing in my\n",
        "# Settings and am now going to adhere to the 80 character limit."
      ],
      "metadata": {
        "id": "5V9wMKBxHeBX"
      },
      "execution_count": null,
      "outputs": []
    },
    {
      "cell_type": "code",
      "source": [
        "# Assignment 5 #2\n",
        "\n",
        "\n",
        "def factorial(n):\n",
        "    factorial = 1\n",
        "    for x in range(1, n + 1):\n",
        "        factorial *= x\n",
        "    return factorial\n",
        "\n",
        "for x in range(20):\n",
        "    print(factorial(x))"
      ],
      "metadata": {
        "colab": {
          "base_uri": "https://localhost:8080/"
        },
        "id": "0chctPM1VizS",
        "outputId": "89ca6328-05ce-4479-a294-fcd85f8c4a44"
      },
      "execution_count": 28,
      "outputs": [
        {
          "output_type": "stream",
          "name": "stdout",
          "text": [
            "1\n",
            "1\n",
            "2\n",
            "6\n",
            "24\n",
            "120\n",
            "720\n",
            "5040\n",
            "40320\n",
            "362880\n",
            "3628800\n",
            "39916800\n",
            "479001600\n",
            "6227020800\n",
            "87178291200\n",
            "1307674368000\n",
            "20922789888000\n",
            "355687428096000\n",
            "6402373705728000\n",
            "121645100408832000\n"
          ]
        }
      ]
    },
    {
      "cell_type": "code",
      "source": [
        "# Assignment 5 #3\n",
        "\n",
        "def special_factorial(n):\n",
        "    factorial = 1\n",
        "    for x in range(1, n + 1):\n",
        "        if x != 4:\n",
        "            if x != 13:\n",
        "                if x != 22:\n",
        "                     factorial *= x\n",
        "    return factorial\n",
        "\n",
        "for x in range(24):\n",
        "    print(special_factorial(x))"
      ],
      "metadata": {
        "colab": {
          "base_uri": "https://localhost:8080/"
        },
        "id": "abl3jCrWwFvT",
        "outputId": "3cb0ab1a-3684-4fb8-e963-c631f301502f"
      },
      "execution_count": 30,
      "outputs": [
        {
          "output_type": "stream",
          "name": "stdout",
          "text": [
            "1\n",
            "1\n",
            "2\n",
            "6\n",
            "6\n",
            "30\n",
            "180\n",
            "1260\n",
            "10080\n",
            "90720\n",
            "907200\n",
            "9979200\n",
            "119750400\n",
            "119750400\n",
            "1676505600\n",
            "25147584000\n",
            "402361344000\n",
            "6840142848000\n",
            "123122571264000\n",
            "2339328854016000\n",
            "46786577080320000\n",
            "982518118686720000\n",
            "982518118686720000\n",
            "22597916729794560000\n"
          ]
        }
      ]
    }
  ]
}